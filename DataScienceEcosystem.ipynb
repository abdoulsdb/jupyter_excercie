{
 "cells": [
  {
   "cell_type": "markdown",
   "id": "029db40e-0212-409b-af8b-21fa0985ac1e",
   "metadata": {},
   "source": [
    "# Data Science Tools and Ecosystem"
   ]
  },
  {
   "cell_type": "markdown",
   "id": "b9d0491e-ba99-40e4-a749-ffb80a4bd7b7",
   "metadata": {
    "tags": []
   },
   "source": [
    "In this notebook Data Science Tools and Ecosystem are summarized."
   ]
  },
  {
   "cell_type": "markdown",
   "id": "1ddecb3d-9cae-4a43-9a76-999eee90c455",
   "metadata": {},
   "source": [
    "Some of the popular languages that Data Scientists use are:\n",
    "\n",
    " 1. Python ;\n",
    " 2. R ;\n",
    " 3. Java ;\n",
    " 4. Javascript;\n",
    " 5. Scala ;\n",
    " 6. SQL.\n"
   ]
  },
  {
   "cell_type": "markdown",
   "id": "33ef2a76-e069-414a-9595-a7825000957b",
   "metadata": {},
   "source": [
    "Some of the commonly used libraries used by Data Scientists include:\n",
    "\n",
    "\n",
    "1. TensorFlow.\n",
    "2. SciPy.\n",
    "3. Pandas.\n",
    "4. NumPy.\n",
    "5. Scikit-apprendre.\n",
    "6. Keras.\n",
    "7. Scrapy.\n"
   ]
  },
  {
   "cell_type": "markdown",
   "id": "2d3835a5-0773-4875-a9e5-6ed12f3bc93a",
   "metadata": {},
   "source": [
    "Exercise 6 - Create a markdown cell with a table of Data Science tools\n",
    "\n",
    "\n",
    "| Data Science Tools           |                                        \n",
    "|------------------------|\n",
    "| Jupyter Notebook  | \n",
    "|\n",
    "| RStudio        | \n",
    "|                         \n",
    "| Pandas        |                          \n"
   ]
  },
  {
   "cell_type": "markdown",
   "id": "2920f49c-594a-46e4-a438-83f29f8209c6",
   "metadata": {},
   "source": [
    "### Below are a few examples of evaluating arithmetic expressions in Python\n",
    "\n",
    "1. Addition : ( 12 + 12 = 24)\n",
    "2. Multiplication : (4 * 6 = 24)\n",
    "3. Puissance : (3^3 = 17)\n",
    "4. Racine carrée : \\sqrt{25}\n",
    "5. Division : (6 / 2 = 3)\n",
    "6. Soustraction : (5 - 3 = 2)"
   ]
  },
  {
   "cell_type": "code",
   "execution_count": 6,
   "id": "2ac8377b-3882-4119-b598-b6df98d5f7a2",
   "metadata": {
    "tags": []
   },
   "outputs": [
    {
     "name": "stdout",
     "output_type": "stream",
     "text": [
      "Result: 17\n"
     ]
    }
   ],
   "source": [
    "# This a simple arithmetic expression to mutiply then add integers\n",
    "\n",
    "a = (3*4)+5\n",
    "\n",
    "print(\"Result:\", a)"
   ]
  },
  {
   "cell_type": "code",
   "execution_count": 11,
   "id": "ef637e81-eb7d-421b-af69-235795dea04d",
   "metadata": {
    "tags": []
   },
   "outputs": [
    {
     "name": "stdout",
     "output_type": "stream",
     "text": [
      "200 minutes equivalent to 3.3333333333333335 hour\n"
     ]
    }
   ],
   "source": [
    "# This will convert 200 minutes to hours by diving by 60\n",
    "\n",
    "minutes = 200\n",
    "one_hour = 60\n",
    "\n",
    "conversion = minutes / one_hour\n",
    "\n",
    "print(minutes, \"minutes equivalent to\", conversion, \"hour\")"
   ]
  },
  {
   "cell_type": "markdown",
   "id": "cd5ea550-473a-49f6-b145-4c0084df7d78",
   "metadata": {},
   "source": [
    "\n",
    "**Objectives :**\n",
    "\n",
    "\n",
    " - List popular languages for Data Science\n",
    " - Use of markdown\n",
    " - Using tables\n",
    " - Libraries used by Data Scientists\n",
    " - This a simple arithmetic expression to mutiply then add integers\n",
    "\n"
   ]
  },
  {
   "cell_type": "markdown",
   "id": "46034027-3f3f-4b6d-a749-edabbbbcccf0",
   "metadata": {},
   "source": [
    "## Author\n",
    "\n",
    "SIDIBE ABDOULAYE"
   ]
  },
  {
   "cell_type": "code",
   "execution_count": null,
   "id": "10ee2923-5eb7-4bcb-a101-abcacb1e2261",
   "metadata": {},
   "outputs": [],
   "source": []
  }
 ],
 "metadata": {
  "kernelspec": {
   "display_name": "Python",
   "language": "python",
   "name": "conda-env-python-py"
  },
  "language_info": {
   "codemirror_mode": {
    "name": "ipython",
    "version": 3
   },
   "file_extension": ".py",
   "mimetype": "text/x-python",
   "name": "python",
   "nbconvert_exporter": "python",
   "pygments_lexer": "ipython3",
   "version": "3.7.12"
  }
 },
 "nbformat": 4,
 "nbformat_minor": 5
}
